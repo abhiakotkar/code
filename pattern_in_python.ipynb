{
  "nbformat": 4,
  "nbformat_minor": 0,
  "metadata": {
    "colab": {
      "provenance": [],
      "authorship_tag": "ABX9TyMyWM0CseOTTAhXYyy614HL",
      "include_colab_link": true
    },
    "kernelspec": {
      "name": "python3",
      "display_name": "Python 3"
    },
    "language_info": {
      "name": "python"
    }
  },
  "cells": [
    {
      "cell_type": "markdown",
      "metadata": {
        "id": "view-in-github",
        "colab_type": "text"
      },
      "source": [
        "<a href=\"https://colab.research.google.com/github/abhiakotkar/code/blob/main/pattern_in_python.ipynb\" target=\"_parent\"><img src=\"https://colab.research.google.com/assets/colab-badge.svg\" alt=\"Open In Colab\"/></a>"
      ]
    },
    {
      "cell_type": "code",
      "source": [
        "n=5\n",
        "### for row \n",
        "for i in range(n):\n",
        "  for j in range(n-1-i):\n",
        "    print(\"\",end=\" \")\n",
        "  for j in range(i+1):\n",
        "    print(\"*\",end=\" \")\n",
        "  print()"
      ],
      "metadata": {
        "colab": {
          "base_uri": "https://localhost:8080/"
        },
        "id": "Juiu322nXho1",
        "outputId": "acfa4835-4b5e-436f-edab-9742a4e9f87c"
      },
      "execution_count": 128,
      "outputs": [
        {
          "output_type": "stream",
          "name": "stdout",
          "text": [
            "    * \n",
            "   * * \n",
            "  * * * \n",
            " * * * * \n",
            "* * * * * \n"
          ]
        }
      ]
    },
    {
      "cell_type": "code",
      "source": [
        "n=5\n",
        "for i in range(n):\n",
        "  for j in range(i):\n",
        "    print(\" \",end=\"\")\n",
        "  for j in range(n-i):\n",
        "    print(\"*\",end=\" \")\n",
        "  print()\n",
        "\n",
        "  "
      ],
      "metadata": {
        "colab": {
          "base_uri": "https://localhost:8080/"
        },
        "id": "npzRPVDCwPCF",
        "outputId": "71dc97db-7739-4ad4-a2c5-60c638a46d96"
      },
      "execution_count": 131,
      "outputs": [
        {
          "output_type": "stream",
          "name": "stdout",
          "text": [
            "* * * * * \n",
            " * * * * \n",
            "  * * * \n",
            "   * * \n",
            "    * \n"
          ]
        }
      ]
    },
    {
      "cell_type": "code",
      "source": [
        "n=5\n",
        "for  i in range(n):\n",
        "  for j in range(i):\n",
        "    print(\"\",end=\"\")\n",
        "  for j in range(i+1):\n",
        "    print(\"*\",end=\" \")\n",
        "  print()"
      ],
      "metadata": {
        "colab": {
          "base_uri": "https://localhost:8080/"
        },
        "id": "P-jMEoG7xT7E",
        "outputId": "22a8d765-e2e8-459f-9e79-ef230efb2755"
      },
      "execution_count": 81,
      "outputs": [
        {
          "output_type": "stream",
          "name": "stdout",
          "text": [
            "* \n",
            "* * \n",
            "* * * \n",
            "* * * * \n",
            "* * * * * \n"
          ]
        }
      ]
    },
    {
      "cell_type": "code",
      "source": [
        "n=5\n",
        "for i in range(n):\n",
        "  for j in range(n-i-1):\n",
        "    print(\" \",end=\" \")\n",
        "  for j in range(i+1):\n",
        "    print(\"*\",end=\" \")\n",
        "  print()"
      ],
      "metadata": {
        "colab": {
          "base_uri": "https://localhost:8080/"
        },
        "id": "yUlCzpQix73j",
        "outputId": "158d12e8-534d-4e46-8992-5ffc9412c408"
      },
      "execution_count": 40,
      "outputs": [
        {
          "output_type": "stream",
          "name": "stdout",
          "text": [
            "        * \n",
            "      * * \n",
            "    * * * \n",
            "  * * * * \n",
            "* * * * * \n"
          ]
        }
      ]
    },
    {
      "cell_type": "code",
      "source": [
        "n=5 \n",
        "for i in range(n):\n",
        "  for j in range(i):\n",
        "    print(\"\",end=\"\")\n",
        "  for j in range(i,n):\n",
        "    print(\"*\",end=\" \")\n",
        "  print()"
      ],
      "metadata": {
        "colab": {
          "base_uri": "https://localhost:8080/"
        },
        "id": "7dFhVY8gyYjD",
        "outputId": "e24e112f-4855-454c-81c3-763dc0b48f4b"
      },
      "execution_count": 76,
      "outputs": [
        {
          "output_type": "stream",
          "name": "stdout",
          "text": [
            "* * * * * \n",
            "* * * * \n",
            "* * * \n",
            "* * \n",
            "* \n"
          ]
        }
      ]
    },
    {
      "cell_type": "code",
      "source": [
        "n=5\n",
        "for i in range(n):\n",
        "  for j in range(i):\n",
        "    print(\" \",end=\" \")\n",
        "  for j in range(i,n):\n",
        "    print(\"*\",end=\" \")\n",
        "  print()"
      ],
      "metadata": {
        "colab": {
          "base_uri": "https://localhost:8080/"
        },
        "id": "Zs47lfpVzmVL",
        "outputId": "d73d283d-d3ec-4aa2-8a4f-51037791889b"
      },
      "execution_count": 75,
      "outputs": [
        {
          "output_type": "stream",
          "name": "stdout",
          "text": [
            "* * * * * \n",
            "  * * * * \n",
            "    * * * \n",
            "      * * \n",
            "        * \n"
          ]
        }
      ]
    },
    {
      "cell_type": "code",
      "source": [
        "n= 5 \n",
        "for i in range(n):\n",
        "  for j in range(i+1):\n",
        "    print(\"*\",end=\" \")\n",
        "  print()"
      ],
      "metadata": {
        "colab": {
          "base_uri": "https://localhost:8080/"
        },
        "id": "diHghNaS0f1j",
        "outputId": "cd711750-bfde-496d-c742-c832f24762b3"
      },
      "execution_count": 93,
      "outputs": [
        {
          "output_type": "stream",
          "name": "stdout",
          "text": [
            "* \n",
            "* * \n",
            "* * * \n",
            "* * * * \n",
            "* * * * * \n"
          ]
        }
      ]
    },
    {
      "cell_type": "code",
      "source": [
        "n= 5 \n",
        "for i in range(n):\n",
        "  for j in range(i,n):\n",
        "    print(\"*\",end=\" \")\n",
        "  print()"
      ],
      "metadata": {
        "colab": {
          "base_uri": "https://localhost:8080/"
        },
        "id": "zNEwcKm945BR",
        "outputId": "3fc6cd83-fe72-42c0-e99f-e6409a841cdf"
      },
      "execution_count": 94,
      "outputs": [
        {
          "output_type": "stream",
          "name": "stdout",
          "text": [
            "* * * * * \n",
            "* * * * \n",
            "* * * \n",
            "* * \n",
            "* \n"
          ]
        }
      ]
    },
    {
      "cell_type": "markdown",
      "source": [
        "#2nd method"
      ],
      "metadata": {
        "id": "ueMjb8Fh-3L9"
      }
    },
    {
      "cell_type": "code",
      "source": [
        "n=5\n",
        "for i in range(n):\n",
        "  for j in range(i+1):\n",
        "    print(\"*\",end=\" \")\n",
        "  print()\n",
        "  "
      ],
      "metadata": {
        "colab": {
          "base_uri": "https://localhost:8080/"
        },
        "id": "v6g1TRDX-P63",
        "outputId": "b235bab5-dc20-40f8-f73b-af06059808c4"
      },
      "execution_count": 112,
      "outputs": [
        {
          "output_type": "stream",
          "name": "stdout",
          "text": [
            "* \n",
            "* * \n",
            "* * * \n",
            "* * * * \n",
            "* * * * * \n"
          ]
        }
      ]
    },
    {
      "cell_type": "code",
      "source": [
        "n=5\n",
        "for i in range(n):\n",
        "  for j in range(i,n):\n",
        "    print(\"*\",end=\" \")\n",
        "  print()"
      ],
      "metadata": {
        "colab": {
          "base_uri": "https://localhost:8080/"
        },
        "id": "1LcixpUB-stY",
        "outputId": "3aa5f9dc-abeb-4c5a-9fb6-cecc8d226e09"
      },
      "execution_count": 100,
      "outputs": [
        {
          "output_type": "stream",
          "name": "stdout",
          "text": [
            "* * * * * \n",
            "* * * * \n",
            "* * * \n",
            "* * \n",
            "* \n"
          ]
        }
      ]
    },
    {
      "cell_type": "code",
      "source": [
        "n=5\n",
        "for  i in range(n):\n",
        "  for j in range(i,n):\n",
        "    print(\" \" ,end=\" \")\n",
        "  for j in range(i+1):\n",
        "    print(\"*\",end=\" \")\n",
        "  print()"
      ],
      "metadata": {
        "colab": {
          "base_uri": "https://localhost:8080/"
        },
        "id": "GrQh5lUi_NYx",
        "outputId": "6db01e7a-3a2b-4095-bd68-a3298d3bc941"
      },
      "execution_count": 108,
      "outputs": [
        {
          "output_type": "stream",
          "name": "stdout",
          "text": [
            "          * \n",
            "        * * \n",
            "      * * * \n",
            "    * * * * \n",
            "  * * * * * \n"
          ]
        }
      ]
    },
    {
      "cell_type": "code",
      "source": [
        "n=5\n",
        "for i in range(n):\n",
        "  for j in range(i+1):\n",
        "    print(\" \",end=\" \")\n",
        "  for j in range(i,n):\n",
        "    print(\"*\",end=\" \")\n",
        "  print()"
      ],
      "metadata": {
        "colab": {
          "base_uri": "https://localhost:8080/"
        },
        "id": "2-KIoPYz_73Q",
        "outputId": "f2984f34-1443-414a-a49e-4e39d049cd08"
      },
      "execution_count": 119,
      "outputs": [
        {
          "output_type": "stream",
          "name": "stdout",
          "text": [
            "  * * * * * \n",
            "    * * * * \n",
            "      * * * \n",
            "        * * \n",
            "          * \n"
          ]
        }
      ]
    },
    {
      "cell_type": "code",
      "source": [
        "n=5\n",
        "for i  in range(n):\n",
        "  for j in range(i,n):\n",
        "    print(\" \",end=\" \")\n",
        "  for j in range(i):\n",
        "    print(\"*\",end=\" \")\n",
        "  for j in range(i+1):\n",
        "    print(\"*\",end=\" \")\n",
        "  print()"
      ],
      "metadata": {
        "colab": {
          "base_uri": "https://localhost:8080/"
        },
        "id": "jEhasVOABd3h",
        "outputId": "c467913f-ce46-47f0-f2e2-4d2ea31cf10e"
      },
      "execution_count": 123,
      "outputs": [
        {
          "output_type": "stream",
          "name": "stdout",
          "text": [
            "          * \n",
            "        * * * \n",
            "      * * * * * \n",
            "    * * * * * * * \n",
            "  * * * * * * * * * \n"
          ]
        }
      ]
    },
    {
      "cell_type": "code",
      "source": [
        "n=5\n",
        "for i in range(n):\n",
        "  for j in range(i+1):\n",
        "    print(\" \",end=\" \")\n",
        "  for j in range(i,n-1):\n",
        "    print(\"*\",end=\" \")\n",
        "  for j in range(i,n):\n",
        "    print(\"*\",end=\" \")\n",
        "  print()"
      ],
      "metadata": {
        "colab": {
          "base_uri": "https://localhost:8080/"
        },
        "id": "c5zRq3TyCiE4",
        "outputId": "8d4aa88b-0007-4286-af56-6063e6904fec"
      },
      "execution_count": 136,
      "outputs": [
        {
          "output_type": "stream",
          "name": "stdout",
          "text": [
            "  * * * * * * * * * \n",
            "    * * * * * * * \n",
            "      * * * * * \n",
            "        * * * \n",
            "          * \n"
          ]
        }
      ]
    },
    {
      "cell_type": "code",
      "source": [
        "n=5\n",
        "for i  in range(n-1):\n",
        "  for j in range(i,n):\n",
        "    print(\" \",end=\" \")\n",
        "  for j in range(i):\n",
        "    print(\"*\",end=\" \")\n",
        "  for j in range(i+1):\n",
        "    print(\"*\",end=\" \")\n",
        "  print()\n",
        "for i in range(n):\n",
        "  for j in range(i+1):\n",
        "    print(\" \",end=\" \")\n",
        "  for j in range(i,n-1):\n",
        "    print(\"*\",end=\" \")\n",
        "  for j in range(i,n):\n",
        "    print(\"*\",end=\" \")\n",
        "  print()"
      ],
      "metadata": {
        "colab": {
          "base_uri": "https://localhost:8080/"
        },
        "id": "yWU3HM3Gif5a",
        "outputId": "9b435ff8-4491-476b-dd4b-0339c9c62ea6"
      },
      "execution_count": 156,
      "outputs": [
        {
          "output_type": "stream",
          "name": "stdout",
          "text": [
            "          * \n",
            "        * * * \n",
            "      * * * * * \n",
            "    * * * * * * * \n",
            "  * * * * * * * * * \n",
            "    * * * * * * * \n",
            "      * * * * * \n",
            "        * * * \n",
            "          * \n"
          ]
        }
      ]
    },
    {
      "cell_type": "code",
      "source": [
        "\n",
        "for i in range(5):\n",
        "  for j in range(i):\n",
        "    print(\"*\",end=\" \")\n",
        "  print()"
      ],
      "metadata": {
        "colab": {
          "base_uri": "https://localhost:8080/"
        },
        "id": "rTTaO5K8kLS5",
        "outputId": "ce987d87-cf5e-4bb5-aa43-8d4d954faeab"
      },
      "execution_count": 171,
      "outputs": [
        {
          "output_type": "stream",
          "name": "stdout",
          "text": [
            "\n",
            "* \n",
            "* * \n",
            "* * * \n",
            "* * * * \n"
          ]
        }
      ]
    },
    {
      "cell_type": "code",
      "source": [
        "for i in range(5-1):\n",
        "  for j in range(i,5):\n",
        "    print(\" \",end=\" \")\n",
        "  for j in range(i):\n",
        "    print(\"&\",end=\" \")\n",
        "  for j in range(i+1):\n",
        "    print(\"/\",end=\" \")\n",
        "  print()\n",
        "for i in range(5):\n",
        "  for j in range(i+1):\n",
        "    print(\" \",end=\" \")\n",
        "  for j in range(i,5-1):\n",
        "    print(\"=\",end=\" \")\n",
        "  for j in range(i,5):\n",
        "    print(\"+\",end=\" \")\n",
        "  print()"
      ],
      "metadata": {
        "colab": {
          "base_uri": "https://localhost:8080/"
        },
        "id": "E3Fq79c9nfLp",
        "outputId": "f7e378eb-ffed-431b-b15a-9ed28967bfcd"
      },
      "execution_count": 177,
      "outputs": [
        {
          "output_type": "stream",
          "name": "stdout",
          "text": [
            "          / \n",
            "        & / / \n",
            "      & & / / / \n",
            "    & & & / / / / \n",
            "  = = = = + + + + + \n",
            "    = = = + + + + \n",
            "      = = + + + \n",
            "        = + + \n",
            "          + \n"
          ]
        }
      ]
    },
    {
      "cell_type": "code",
      "source": [
        "for i in range(5):\n",
        "  for j in range(i,5):\n",
        "    print(\" \",end=\" \")\n",
        "  for i in range(i+1):\n",
        "    print(\"+\",end=\" \")\n",
        "  print()"
      ],
      "metadata": {
        "colab": {
          "base_uri": "https://localhost:8080/"
        },
        "id": "DPi9Qfi4pQmj",
        "outputId": "8ab1f019-0389-4df7-9da2-237b113b1047"
      },
      "execution_count": 179,
      "outputs": [
        {
          "output_type": "stream",
          "name": "stdout",
          "text": [
            "          + \n",
            "        + + \n",
            "      + + + \n",
            "    + + + + \n",
            "  + + + + + \n"
          ]
        }
      ]
    },
    {
      "cell_type": "code",
      "source": [
        "for i in range(5):\n",
        "  for j in range(i):\n",
        "    print(\" \",end=\" \")\n",
        "  for j in range(i,5):\n",
        "    print(\"+\",end=\" \")\n",
        "  print()"
      ],
      "metadata": {
        "colab": {
          "base_uri": "https://localhost:8080/"
        },
        "id": "xXfgUsfIrz1U",
        "outputId": "af02cb5f-423b-479c-f00d-15e20ee81cd4"
      },
      "execution_count": 199,
      "outputs": [
        {
          "output_type": "stream",
          "name": "stdout",
          "text": [
            "+ + + + + \n",
            "  + + + + \n",
            "    + + + \n",
            "      + + \n",
            "        + \n"
          ]
        }
      ]
    },
    {
      "cell_type": "markdown",
      "source": [
        "#simple method"
      ],
      "metadata": {
        "id": "WGy9u7-UvHNu"
      }
    },
    {
      "cell_type": "code",
      "source": [
        "n=5\n",
        "for i in range(n):\n",
        "  for j in range(i):\n",
        "    print(\"\",end=\"\")\n",
        "  for j in range(i,n):\n",
        "    print(\"*\",end=\" \")\n",
        "  print()"
      ],
      "metadata": {
        "colab": {
          "base_uri": "https://localhost:8080/"
        },
        "id": "UPNJvWEzsLNp",
        "outputId": "7beaeedb-bc01-40bd-a66d-15451c01783b"
      },
      "execution_count": 202,
      "outputs": [
        {
          "output_type": "stream",
          "name": "stdout",
          "text": [
            "* * * * * \n",
            "* * * * \n",
            "* * * \n",
            "* * \n",
            "* \n"
          ]
        }
      ]
    },
    {
      "cell_type": "code",
      "source": [
        "n=5\n",
        "for i in range(n):\n",
        "  for j in range(i,n):\n",
        "    print(\" \",end=\" \")\n",
        "  for j in range(i+1):\n",
        "    print(\"*\",end=\" \")\n",
        "  print()"
      ],
      "metadata": {
        "colab": {
          "base_uri": "https://localhost:8080/"
        },
        "id": "kIjUaebkuQMj",
        "outputId": "afa51ecc-c8ca-4321-b0de-7d570cd21ef1"
      },
      "execution_count": 206,
      "outputs": [
        {
          "output_type": "stream",
          "name": "stdout",
          "text": [
            "          * \n",
            "        * * \n",
            "      * * * \n",
            "    * * * * \n",
            "  * * * * * \n"
          ]
        }
      ]
    },
    {
      "cell_type": "code",
      "source": [
        "n=5\n",
        "a=ord(\"A\")\n",
        "for i in range(n):\n",
        "  for j in range(i):\n",
        "    print(\"\",end=\"\")\n",
        "  for j in range(i,n):\n",
        "    print(chr(a),end=\" \")\n",
        "    a=a+1\n",
        "  print()"
      ],
      "metadata": {
        "colab": {
          "base_uri": "https://localhost:8080/"
        },
        "id": "TPl7D8bNu286",
        "outputId": "a014843a-10b9-4962-d7b4-7f614c5419a2"
      },
      "execution_count": 211,
      "outputs": [
        {
          "output_type": "stream",
          "name": "stdout",
          "text": [
            "A B C D E \n",
            "F G H I \n",
            "J K L \n",
            "M N \n",
            "O \n"
          ]
        }
      ]
    },
    {
      "cell_type": "code",
      "source": [
        "n=5 \n",
        "for i in range(n):\n",
        "  a=ord(\"A\")+i\n",
        "  for j in range(i,n):\n",
        "    print(\"\",end=\"\")\n",
        "  for j in range(i+1):\n",
        "    print(chr(a),end=\" \")\n",
        "    a=a+1\n",
        "  print()\n"
      ],
      "metadata": {
        "colab": {
          "base_uri": "https://localhost:8080/"
        },
        "id": "xB35q2k_yC96",
        "outputId": "54ffaed5-37d6-46ef-b5ff-91047e5a6254"
      },
      "execution_count": 223,
      "outputs": [
        {
          "output_type": "stream",
          "name": "stdout",
          "text": [
            "A \n",
            "B C \n",
            "C D E \n",
            "D E F G \n",
            "E F G H I \n"
          ]
        }
      ]
    },
    {
      "cell_type": "code",
      "source": [],
      "metadata": {
        "id": "5uOCVCd9y1cK"
      },
      "execution_count": null,
      "outputs": []
    }
  ]
}
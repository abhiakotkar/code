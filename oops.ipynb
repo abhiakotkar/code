{
 "cells": [
  {
   "cell_type": "markdown",
   "id": "4e622318-0d48-4945-8178-1322e2a515d6",
   "metadata": {},
   "source": [
    "oops: object oriented program\n",
    "*class\n",
    "\n",
    "*object\n",
    "\n",
    "*method\n",
    "\n",
    "*inheritance\n",
    "\n",
    "*Polymorphism\n",
    "\n",
    "*Data Abstraction\n",
    "\n",
    "*Encapsulation\n",
    "\n",
    "\n"
   ]
  },
  {
   "cell_type": "code",
   "execution_count": 37,
   "id": "6187a485-66b4-4e53-bd6d-34955292e152",
   "metadata": {},
   "outputs": [
    {
     "name": "stdout",
     "output_type": "stream",
     "text": [
      "abhinav having 25 age\n"
     ]
    }
   ],
   "source": [
    "\"\"\"\"\"class:-\n",
    "class is collection of object\n",
    "its has attribute(example: emails,age,name) and methods\"\"\"\n",
    "#examples:\n",
    "class person:\n",
    "    def __init__(self,name,age):\n",
    "        self.name=name\n",
    "        self.age=age\n",
    "p1=person('abhinav',25)\n",
    "print(p1.name,'having',p1.age,'age')\n",
    "\n"
   ]
  },
  {
   "cell_type": "code",
   "execution_count": 25,
   "id": "5cbbfa97-a07f-4673-8235-62efe15a189b",
   "metadata": {},
   "outputs": [
    {
     "name": "stdin",
     "output_type": "stream",
     "text": [
      " 5\n",
      " 3\n"
     ]
    },
    {
     "name": "stdout",
     "output_type": "stream",
     "text": [
      "8\n"
     ]
    }
   ],
   "source": [
    "#2nd exaple of classs\n",
    "class num():\n",
    "    def sumnum(self,a,b):\n",
    "        c=a+b\n",
    "        return c\n",
    "a=int(input())\n",
    "b=int(input())\n",
    "obj=num()\n",
    "c=obj.sumnum(a,b)\n",
    "print(c)"
   ]
  },
  {
   "cell_type": "code",
   "execution_count": 1,
   "id": "0a2e3519-6a36-43b0-96ca-b9d6c56e814e",
   "metadata": {},
   "outputs": [
    {
     "data": {
      "text/plain": [
       "\"'you can said that its a method that refers to bundling of attributes and methods into single class\\n\\nThis also helps to achieve data hiding.\\nk g vkv  v\""
      ]
     },
     "execution_count": 1,
     "metadata": {},
     "output_type": "execute_result"
    }
   ],
   "source": [
    "#*Encapsulation\n",
    "''''you can said that its a method that refers to bundling of attributes and methods into single class\n",
    "\n",
    "This also helps to achieve data hiding.\n",
    "k g vkv  v'''"
   ]
  },
  {
   "cell_type": "code",
   "execution_count": 6,
   "id": "f4a8ec88-1877-4270-b99d-917945ffd06a",
   "metadata": {},
   "outputs": [
    {
     "name": "stdout",
     "output_type": "stream",
     "text": [
      "30\n"
     ]
    }
   ],
   "source": [
    "class addd:\n",
    "    def sumno(self,a,b):\n",
    "        self.a=a\n",
    "        self.b=b\n",
    "        c=a+b\n",
    "        return c\n",
    "a=5\n",
    "b=25\n",
    "ob=addd()\n",
    "c=ob.sumno(a,b)\n",
    "print(c)"
   ]
  },
  {
   "cell_type": "code",
   "execution_count": 9,
   "id": "5cc2f94e-fc7e-48ca-b4c6-db65f9a0572f",
   "metadata": {},
   "outputs": [
    {
     "name": "stdout",
     "output_type": "stream",
     "text": [
      "[array([1, 5, 8, 8]), array([9, 8, 5, 6]), array([ 5, 88,  4,  5])]\n"
     ]
    }
   ],
   "source": [
    "import numpy as np\n",
    "l=[1,5,8,8,9,8,5,6,5,88,4,5]\n",
    "ch=np.array_split(l,3)\n",
    "print(ch)"
   ]
  },
  {
   "cell_type": "code",
   "execution_count": 14,
   "id": "a445c3d9-6919-45e8-9e4e-6bcf378bbad5",
   "metadata": {},
   "outputs": [
    {
     "name": "stdout",
     "output_type": "stream",
     "text": [
      "[[1, 5], [8, 8], [9, 8], [5, 6], [5, 88], [4, 5]]\n"
     ]
    }
   ],
   "source": [
    "l=[1,5,8,8,9,8,5,6,5,88,4,5]\n",
    "c=[l[i:i+2] for i in range(0,len(l),2)]\n",
    "print(c)"
   ]
  },
  {
   "cell_type": "code",
   "execution_count": 17,
   "id": "4b28a563-0a5c-45a7-90c8-4bbb73965a52",
   "metadata": {},
   "outputs": [
    {
     "name": "stdout",
     "output_type": "stream",
     "text": [
      "[[5, 8, 3, 4], [5, 3, 2, 3], [5, 3, 4, 32], [432, 234, 34, 23], [43]]\n"
     ]
    }
   ],
   "source": [
    "l=[5,8,3,4,5,3,2,3,5,3,4,32,432,234,34,23,43]\n",
    "chk=[l[i:i+4] for i in range(0,len(l),4)]\n",
    "print(chk)"
   ]
  },
  {
   "cell_type": "code",
   "execution_count": 22,
   "id": "6a21d8d5-408b-4749-8be4-58b1d2547787",
   "metadata": {},
   "outputs": [
    {
     "name": "stdout",
     "output_type": "stream",
     "text": [
      "[1, 3, 5, 7, 9]\n"
     ]
    }
   ],
   "source": [
    "l=[i for i in range(1,10) if i%2!=0]\n",
    "print(l)"
   ]
  },
  {
   "cell_type": "code",
   "execution_count": 41,
   "id": "523d0c9c-a3eb-4c06-b8fa-2473bd8c5577",
   "metadata": {},
   "outputs": [
    {
     "name": "stdout",
     "output_type": "stream",
     "text": [
      "[3, 10, 26, 1, 25]\n"
     ]
    }
   ],
   "source": [
    "import random\n",
    "randomlist = []\n",
    "for i in range(0,5):\n",
    "    n = random.randint(1,30)\n",
    "    randomlist.append(n)\n",
    "print(randomlist)"
   ]
  },
  {
   "cell_type": "code",
   "execution_count": 45,
   "id": "80c6e927-6e06-49fe-8772-147543bd45a5",
   "metadata": {},
   "outputs": [
    {
     "name": "stdout",
     "output_type": "stream",
     "text": [
      "[14, 3, 3, 9, 1]\n"
     ]
    }
   ],
   "source": [
    "import random\n",
    "x=[]\n",
    "for i in range(0,5):\n",
    "    n=random.randint(1,15)\n",
    "    x.append(n)\n",
    "print(x)"
   ]
  },
  {
   "cell_type": "code",
   "execution_count": 49,
   "id": "645c5cdd-dc2a-40b4-bd93-7fcbe2d94170",
   "metadata": {},
   "outputs": [
    {
     "name": "stdout",
     "output_type": "stream",
     "text": [
      "[72, 17, 14, 30, 20]\n"
     ]
    }
   ],
   "source": [
    "import random\n",
    "a=[]\n",
    "for i in range(5):\n",
    "    n=random.randint(1,100)\n",
    "    a.append(n)\n",
    "print(a)"
   ]
  },
  {
   "cell_type": "code",
   "execution_count": 51,
   "id": "873df4ee-86c4-40fb-ac88-4071184ddbe9",
   "metadata": {},
   "outputs": [
    {
     "name": "stdout",
     "output_type": "stream",
     "text": [
      "[[1, 54, 4], [4, 5, 45], [45, 454, 54], [54, 54, 54], [54, 48, 48], [48, 8, 8], [8, 87, 654], [654]]\n"
     ]
    }
   ],
   "source": [
    "l=[1,54,4,5,45,454,54,54,54,48,48,8,8,87,654]\n",
    "c=[l[i:i+3] for i in range(0,len(l),2)]\n",
    "print(c)"
   ]
  },
  {
   "cell_type": "code",
   "execution_count": null,
   "id": "fd9e25aa-0ca7-4aa4-bb96-128ddbf74876",
   "metadata": {},
   "outputs": [],
   "source": []
  }
 ],
 "metadata": {
  "kernelspec": {
   "display_name": "Python 3 (ipykernel)",
   "language": "python",
   "name": "python3"
  },
  "language_info": {
   "codemirror_mode": {
    "name": "ipython",
    "version": 3
   },
   "file_extension": ".py",
   "mimetype": "text/x-python",
   "name": "python",
   "nbconvert_exporter": "python",
   "pygments_lexer": "ipython3",
   "version": "3.10.9"
  }
 },
 "nbformat": 4,
 "nbformat_minor": 5
}

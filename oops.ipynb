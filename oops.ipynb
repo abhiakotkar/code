{
 "cells": [
  {
   "cell_type": "markdown",
   "id": "4e622318-0d48-4945-8178-1322e2a515d6",
   "metadata": {},
   "source": [
    "oops: object oriented program\n",
    "*class\n",
    "\n",
    "*object\n",
    "\n",
    "*method\n",
    "\n",
    "*inheritance\n",
    "\n",
    "*Polymorphism\n",
    "\n",
    "*Data Abstraction\n",
    "\n",
    "*Encapsulation\n",
    "\n",
    "\n"
   ]
  },
  {
   "cell_type": "code",
   "execution_count": 37,
   "id": "6187a485-66b4-4e53-bd6d-34955292e152",
   "metadata": {},
   "outputs": [
    {
     "name": "stdout",
     "output_type": "stream",
     "text": [
      "abhinav having 25 age\n"
     ]
    }
   ],
   "source": [
    "\"\"\"\"\"class:-\n",
    "class is collection of object\n",
    "its has attribute(example: emails,age,name) and methods\"\"\"\n",
    "#examples:\n",
    "class person:\n",
    "    def __init__(self,name,age):\n",
    "        self.name=name\n",
    "        self.age=age\n",
    "p1=person('abhinav',25)\n",
    "print(p1.name,'having',p1.age,'age')\n",
    "\n"
   ]
  },
  {
   "cell_type": "code",
   "execution_count": 25,
   "id": "5cbbfa97-a07f-4673-8235-62efe15a189b",
   "metadata": {},
   "outputs": [
    {
     "name": "stdin",
     "output_type": "stream",
     "text": [
      " 5\n",
      " 3\n"
     ]
    },
    {
     "name": "stdout",
     "output_type": "stream",
     "text": [
      "8\n"
     ]
    }
   ],
   "source": [
    "#2nd exaple of classs\n",
    "class num():\n",
    "    def sumnum(self,a,b):\n",
    "        c=a+b\n",
    "        return c\n",
    "a=int(input())\n",
    "b=int(input())\n",
    "obj=num()\n",
    "c=obj.sumnum(a,b)\n",
    "print(c)"
   ]
  },
  {
   "cell_type": "code",
   "execution_count": 1,
   "id": "0a2e3519-6a36-43b0-96ca-b9d6c56e814e",
   "metadata": {},
   "outputs": [
    {
     "data": {
      "text/plain": [
       "\"'you can said that its a method that refers to bundling of attributes and methods into single class\\n\\nThis also helps to achieve data hiding.\\nk g vkv  v\""
      ]
     },
     "execution_count": 1,
     "metadata": {},
     "output_type": "execute_result"
    }
   ],
   "source": [
    "#*Encapsulation\n",
    "''''you can said that its a method that refers to bundling of attributes and methods into single class\n",
    "\n",
    "This also helps to achieve data hiding.\n",
    "k g vkv  v'''"
   ]
  },
  {
   "cell_type": "code",
   "execution_count": null,
   "id": "f4a8ec88-1877-4270-b99d-917945ffd06a",
   "metadata": {},
   "outputs": [],
   "source": []
  }
 ],
 "metadata": {
  "kernelspec": {
   "display_name": "Python 3 (ipykernel)",
   "language": "python",
   "name": "python3"
  },
  "language_info": {
   "codemirror_mode": {
    "name": "ipython",
    "version": 3
   },
   "file_extension": ".py",
   "mimetype": "text/x-python",
   "name": "python",
   "nbconvert_exporter": "python",
   "pygments_lexer": "ipython3",
   "version": "3.10.9"
  }
 },
 "nbformat": 4,
 "nbformat_minor": 5
}
